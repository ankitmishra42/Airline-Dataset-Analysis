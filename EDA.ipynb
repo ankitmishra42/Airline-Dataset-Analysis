{
 "cells": [
  {
   "cell_type": "code",
   "execution_count": 1,
   "id": "e1e62ac1",
   "metadata": {},
   "outputs": [],
   "source": [
    "import pandas as pd\n",
    "import generate_athena_query as gen_query"
   ]
  },
  {
   "cell_type": "code",
   "execution_count": 2,
   "id": "8fe0c4ae",
   "metadata": {},
   "outputs": [],
   "source": [
    "Airline_Dataset_Updated_v2_path = \"Airline data/Airline Dataset Updated - v2.csv\"\n",
    "Airline_Dataset_Updated_v2_DF = pd.read_csv(Airline_Dataset_Updated_v2_path)\n",
    "\n",
    "Airline_Dataset_Updated_path = \"Airline data/Airline Dataset Updated.csv\"\n",
    "Airline_Dataset_Updated_DF = pd.read_csv(Airline_Dataset_Updated_path)\n",
    "\n",
    "Airline_Dataset_path = \"Airline data/Airline Dataset.csv\"\n",
    "Airline_Dataset_DF = pd.read_csv(Airline_Dataset_path)"
   ]
  },
  {
   "cell_type": "code",
   "execution_count": 3,
   "id": "7ba60814",
   "metadata": {},
   "outputs": [],
   "source": [
    "# Airline_Dataset_Updated_v2_DF.head(12)"
   ]
  },
  {
   "cell_type": "code",
   "execution_count": 4,
   "id": "ed632b03",
   "metadata": {},
   "outputs": [],
   "source": [
    "# Airline_Dataset_Updated_DF.head(12)"
   ]
  },
  {
   "cell_type": "code",
   "execution_count": 5,
   "id": "1d523820",
   "metadata": {},
   "outputs": [],
   "source": [
    "# Airline_Dataset_DF.head(12)"
   ]
  },
  {
   "cell_type": "code",
   "execution_count": 6,
   "id": "88d9c517",
   "metadata": {},
   "outputs": [],
   "source": [
    "complete_df1 = pd.concat([Airline_Dataset_Updated_v2_DF, Airline_Dataset_Updated_DF], ignore_index=True)\n",
    "complete_DF = pd.concat([complete_df1, Airline_Dataset_DF], ignore_index=True)"
   ]
  },
  {
   "cell_type": "code",
   "execution_count": 7,
   "id": "34710abb",
   "metadata": {},
   "outputs": [
    {
     "name": "stdout",
     "output_type": "stream",
     "text": [
      "\n",
      "    CREATE DATABASE IF NOT EXISTS airline_dataset_db;\n",
      "    CREATE EXTERNAL TABLE IF NOT EXISTS airline_dataset_db.updated_airline_dataset (\n",
      "        `Passenger_ID` STRING,\n",
      "        `First_Name` STRING,\n",
      "        `Last_Name` STRING,\n",
      "        `Gender` STRING,\n",
      "        `Age` INT,\n",
      "        `Nationality` STRING,\n",
      "        `Airport_Name` STRING,\n",
      "        `Airport_Country_Code` STRING,\n",
      "        `Country_Name` STRING,\n",
      "        `Airport_Continent` STRING,\n",
      "        `Continents` STRING,\n",
      "        `Departure_Date` STRING,\n",
      "        `Arrival_Airport` STRING,\n",
      "        `Pilot_Name` STRING,\n",
      "        `Flight_Status` STRING\n",
      "    )\n",
      "    ROW FORMAT SERDE 'org.apache.hadoop.hive.serde2.lazy.LazySimpleSerDe'\n",
      "    WITH SERDEPROPERTIES ('field.delim' = ',')\n",
      "    STORED AS INPUTFORMAT 'org.apache.hadoop.mapred.TextInputFormat' \n",
      "    OUTPUTFORMAT 'org.apache.hadoop.hive.ql.io.HiveIgnoreKeyTextOutputFormat'\n",
      "    LOCATION 's3://ankitsbucket001/Airline_data_Project2_folder/updated_airline_dataset/'\n",
      "    TBLPROPERTIES ('skip.header.line.count'='1');\n",
      "    \n"
     ]
    }
   ],
   "source": [
    "query = gen_query.generate_athena_query(complete_DF, \"airline_dataset_db\", \"updated_airline_dataset\",\"s3://ankitsbucket001/Airline_data_Project2_folder/updated_airline_dataset/\")\n",
    "\n",
    "print(query)"
   ]
  }
 ],
 "metadata": {
  "kernelspec": {
   "display_name": "Python 3",
   "language": "python",
   "name": "python3"
  },
  "language_info": {
   "codemirror_mode": {
    "name": "ipython",
    "version": 3
   },
   "file_extension": ".py",
   "mimetype": "text/x-python",
   "name": "python",
   "nbconvert_exporter": "python",
   "pygments_lexer": "ipython3",
   "version": "3.13.0"
  }
 },
 "nbformat": 4,
 "nbformat_minor": 5
}
